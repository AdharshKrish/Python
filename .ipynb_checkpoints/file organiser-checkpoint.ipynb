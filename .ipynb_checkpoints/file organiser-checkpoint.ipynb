{
 "cells": [
  {
   "cell_type": "code",
   "execution_count": null,
   "metadata": {},
   "outputs": [],
   "source": [
    "import os \n",
    "from pathlib import Path \n",
    "\n",
    "DIRECTORIES = { \n",
    "\t\"HTML\": [\".html5\", \".html\", \".htm\", \".xhtml\"], \n",
    "\t\"IMAGES\": [\".jpeg\", \".jpg\", \".tiff\", \".gif\", \".bmp\", \".png\", \".bpg\", \"svg\", \n",
    "\t\t\t\".heif\", \".psd\"], \n",
    "\t\"VIDEOS\": [\".avi\", \".flv\", \".wmv\", \".mov\", \".mp4\", \".webm\", \".vob\", \".mng\", \".mkv\",\".qt\", \".mpg\", \".mpeg\", \".3gp\"], \n",
    "\t\"DOCUMENTS\": [\".oxps\", \".epub\", \".pages\", \".docx\", \".doc\", \".fdf\", \".ods\", \n",
    "\t\t\t\t\".odt\", \".pwi\", \".xsn\", \".xps\", \".dotx\", \".docm\", \".dox\", \n",
    "\t\t\t\t\".rvg\", \".rtf\", \".rtfd\", \".wpd\", \".xls\", \".xlsx\", \".ppt\", \n",
    "\t\t\t\t\"pptx\"], \n",
    "\t\"ARCHIVES\": [\".a\", \".ar\", \".cpio\", \".iso\", \".tar\", \".gz\", \".rz\", \".7z\", \n",
    "\t\t\t\t\".dmg\", \".rar\", \".xar\", \".zip\"], \n",
    "\t\"AUDIO\": [\".aac\", \".aa\", \".aac\", \".dvf\", \".m4a\", \".m4b\", \".m4p\", \".mp3\", \n",
    "\t\t\t\".msv\", \"ogg\", \"oga\", \".raw\", \".vox\", \".wav\", \".wma\"], \n",
    "\t\"PLAINTEXT\": [\".txt\", \".in\", \".out\"], \n",
    "\t\"PDF\": [\".pdf\"], \n",
    "\t\"PYTHON\": [\".py\"], \n",
    "\t\"XML\": [\".xml\"], \n",
    "\t\"EXE\": [\".exe\"], \n",
    "\t\"SHELL\": [\".sh\"],\n",
    "    \"MSI\":[\".msi\"],\n",
    "    \"BAT\":[\".bat\"],\n",
    "    \"TORRENT\":[\".torrent\"]\n",
    "\n",
    "} \n",
    "\n",
    "FILE_FORMATS = {file_format: directory \n",
    "\t\t\t\tfor directory, file_formats in DIRECTORIES.items() \n",
    "\t\t\t\tfor file_format in file_formats} \n",
    "\n",
    "def organize_junk(): \n",
    "\tfor entry in os.scandir(): \n",
    "\t\tif entry.is_dir(): \n",
    "\t\t\tcontinue\n",
    "\t\tfile_path = Path(entry) \n",
    "\t\tfile_format = file_path.suffix.lower() \n",
    "\t\tif file_format in FILE_FORMATS: \n",
    "\t\t\tdirectory_path = Path(FILE_FORMATS[file_format]) \n",
    "\t\t\tdirectory_path.mkdir(exist_ok=True) \n",
    "\t\t\tfile_path.rename(directory_path.joinpath(file_path)) \n",
    "\n",
    "\t\tfor dir in os.scandir(): \n",
    "\t\t\ttry: \n",
    "\t\t\t\tos.rmdir(dir) \n",
    "\t\t\texcept: \n",
    "\t\t\t\tpass\n",
    "\n",
    "if __name__ == \"__main__\": \n",
    "\torganize_junk() \n"
   ]
  }
 ],
 "metadata": {
  "kernelspec": {
   "display_name": "Python 3",
   "language": "python",
   "name": "python3"
  },
  "language_info": {
   "codemirror_mode": {
    "name": "ipython",
    "version": 3
   },
   "file_extension": ".py",
   "mimetype": "text/x-python",
   "name": "python",
   "nbconvert_exporter": "python",
   "pygments_lexer": "ipython3",
   "version": "3.6.5"
  }
 },
 "nbformat": 4,
 "nbformat_minor": 2
}
